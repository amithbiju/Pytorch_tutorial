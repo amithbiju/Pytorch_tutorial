{
  "nbformat": 4,
  "nbformat_minor": 0,
  "metadata": {
    "colab": {
      "provenance": [],
      "authorship_tag": "ABX9TyMNtE4DOH3deOje9NCmZevD",
      "include_colab_link": true
    },
    "kernelspec": {
      "name": "python3",
      "display_name": "Python 3"
    },
    "language_info": {
      "name": "python"
    }
  },
  "cells": [
    {
      "cell_type": "markdown",
      "metadata": {
        "id": "view-in-github",
        "colab_type": "text"
      },
      "source": [
        "<a href=\"https://colab.research.google.com/github/amithbiju/Pytorch_tutorial/blob/main/tensors.ipynb\" target=\"_parent\"><img src=\"https://colab.research.google.com/assets/colab-badge.svg\" alt=\"Open In Colab\"/></a>"
      ]
    },
    {
      "cell_type": "code",
      "execution_count": 1,
      "metadata": {
        "colab": {
          "base_uri": "https://localhost:8080/"
        },
        "id": "It-TXAyOp19Q",
        "outputId": "c3e185b9-0d9d-4d2d-e510-8a6cdac92966"
      },
      "outputs": [
        {
          "output_type": "stream",
          "name": "stdout",
          "text": [
            "2.4.0+cu121\n"
          ]
        }
      ],
      "source": [
        "import torch\n",
        "import pandas as pd\n",
        "import numpy as np\n",
        "import matplotlib.pyplot as plt\n",
        "print(torch.__version__)"
      ]
    },
    {
      "cell_type": "code",
      "source": [
        "scalar = torch.tensor(7)\n",
        "scalar"
      ],
      "metadata": {
        "colab": {
          "base_uri": "https://localhost:8080/"
        },
        "id": "Da_ROU8trs6v",
        "outputId": "78afdc3c-ac60-4fb9-886a-2d0c3c47d9e2"
      },
      "execution_count": null,
      "outputs": [
        {
          "output_type": "execute_result",
          "data": {
            "text/plain": [
              "tensor(7)"
            ]
          },
          "metadata": {},
          "execution_count": 2
        }
      ]
    },
    {
      "cell_type": "code",
      "source": [
        "scalar.ndim"
      ],
      "metadata": {
        "colab": {
          "base_uri": "https://localhost:8080/"
        },
        "id": "yzZ8Mc86sHLD",
        "outputId": "5fd461ec-a1a6-4235-db27-66b1a2756457"
      },
      "execution_count": null,
      "outputs": [
        {
          "output_type": "execute_result",
          "data": {
            "text/plain": [
              "0"
            ]
          },
          "metadata": {},
          "execution_count": 3
        }
      ]
    },
    {
      "cell_type": "code",
      "source": [
        "scalar.item()"
      ],
      "metadata": {
        "colab": {
          "base_uri": "https://localhost:8080/"
        },
        "id": "e2cCePawsKpc",
        "outputId": "dc157206-4c90-4e13-8905-7d57b7981aa6"
      },
      "execution_count": null,
      "outputs": [
        {
          "output_type": "execute_result",
          "data": {
            "text/plain": [
              "7"
            ]
          },
          "metadata": {},
          "execution_count": 5
        }
      ]
    },
    {
      "cell_type": "code",
      "source": [
        "vector = torch.tensor([7,7])\n",
        "vector"
      ],
      "metadata": {
        "colab": {
          "base_uri": "https://localhost:8080/"
        },
        "id": "pT6__7L4sO7Y",
        "outputId": "86efbc38-8cb7-4795-e663-d08037a07f08"
      },
      "execution_count": null,
      "outputs": [
        {
          "output_type": "execute_result",
          "data": {
            "text/plain": [
              "tensor([7, 7])"
            ]
          },
          "metadata": {},
          "execution_count": 6
        }
      ]
    },
    {
      "cell_type": "code",
      "source": [
        "vector.ndim"
      ],
      "metadata": {
        "colab": {
          "base_uri": "https://localhost:8080/"
        },
        "id": "6OChydhWsgNR",
        "outputId": "b45254fb-0648-4eb6-b626-353d8b92b66b"
      },
      "execution_count": null,
      "outputs": [
        {
          "output_type": "execute_result",
          "data": {
            "text/plain": [
              "1"
            ]
          },
          "metadata": {},
          "execution_count": 7
        }
      ]
    },
    {
      "cell_type": "code",
      "source": [
        "vector.shape"
      ],
      "metadata": {
        "colab": {
          "base_uri": "https://localhost:8080/"
        },
        "id": "9QZ4uMu8sjmy",
        "outputId": "a653801b-3cb4-4efe-c339-34d37489291a"
      },
      "execution_count": null,
      "outputs": [
        {
          "output_type": "execute_result",
          "data": {
            "text/plain": [
              "torch.Size([2])"
            ]
          },
          "metadata": {},
          "execution_count": 8
        }
      ]
    },
    {
      "cell_type": "code",
      "source": [
        "# MATRIX\n",
        "\n",
        "MATRIX = torch.tensor([[7,8],[5,6]])\n",
        "\n",
        "MATRIX"
      ],
      "metadata": {
        "colab": {
          "base_uri": "https://localhost:8080/"
        },
        "id": "dn97iWGwsnuU",
        "outputId": "35b54565-bb31-4a1f-c0b7-35d0f2dae7a0"
      },
      "execution_count": null,
      "outputs": [
        {
          "output_type": "execute_result",
          "data": {
            "text/plain": [
              "tensor([[7, 8],\n",
              "        [5, 6]])"
            ]
          },
          "metadata": {},
          "execution_count": 9
        }
      ]
    },
    {
      "cell_type": "code",
      "source": [
        "MATRIX.ndim"
      ],
      "metadata": {
        "colab": {
          "base_uri": "https://localhost:8080/"
        },
        "id": "ZAiDkdf4s4QL",
        "outputId": "10933325-e6a1-4074-a2dd-7168cc3042d1"
      },
      "execution_count": null,
      "outputs": [
        {
          "output_type": "execute_result",
          "data": {
            "text/plain": [
              "2"
            ]
          },
          "metadata": {},
          "execution_count": 11
        }
      ]
    },
    {
      "cell_type": "code",
      "source": [
        "MATRIX[1]"
      ],
      "metadata": {
        "colab": {
          "base_uri": "https://localhost:8080/"
        },
        "id": "LcBGVHsSs8Fb",
        "outputId": "145a1aff-4135-4b5f-fee5-1951bf65891d"
      },
      "execution_count": null,
      "outputs": [
        {
          "output_type": "execute_result",
          "data": {
            "text/plain": [
              "tensor([5, 6])"
            ]
          },
          "metadata": {},
          "execution_count": 12
        }
      ]
    },
    {
      "cell_type": "code",
      "source": [
        "MATRIX.shape"
      ],
      "metadata": {
        "colab": {
          "base_uri": "https://localhost:8080/"
        },
        "id": "Za0o_4m2tFsL",
        "outputId": "46bb79a0-42a4-4760-e938-7629d7900dd5"
      },
      "execution_count": null,
      "outputs": [
        {
          "output_type": "execute_result",
          "data": {
            "text/plain": [
              "torch.Size([2, 2])"
            ]
          },
          "metadata": {},
          "execution_count": 13
        }
      ]
    },
    {
      "cell_type": "code",
      "source": [
        "# TENSOR\n",
        "\n",
        "TENSOR = torch.tensor([[[1,2,3],[3,4,5],[6,7,8]]])\n",
        "\n",
        "TENSOR"
      ],
      "metadata": {
        "colab": {
          "base_uri": "https://localhost:8080/"
        },
        "id": "SwIdkbKwtK0e",
        "outputId": "3c0210a1-4ec4-42be-9937-5af5b97bfe8f"
      },
      "execution_count": null,
      "outputs": [
        {
          "output_type": "execute_result",
          "data": {
            "text/plain": [
              "tensor([[[1, 2, 3],\n",
              "         [3, 4, 5],\n",
              "         [6, 7, 8]]])"
            ]
          },
          "metadata": {},
          "execution_count": 14
        }
      ]
    },
    {
      "cell_type": "code",
      "source": [
        "TENSOR.ndim\n"
      ],
      "metadata": {
        "colab": {
          "base_uri": "https://localhost:8080/"
        },
        "id": "-4NyK2aGtg0p",
        "outputId": "6ec09868-186e-452a-82ed-f524663bdfbf"
      },
      "execution_count": null,
      "outputs": [
        {
          "output_type": "execute_result",
          "data": {
            "text/plain": [
              "3"
            ]
          },
          "metadata": {},
          "execution_count": 15
        }
      ]
    },
    {
      "cell_type": "code",
      "source": [
        "TENSOR.shape"
      ],
      "metadata": {
        "colab": {
          "base_uri": "https://localhost:8080/"
        },
        "id": "kbQoIZ__t0MB",
        "outputId": "152484ff-ecb6-4d19-f669-6ef0717ea8ec"
      },
      "execution_count": null,
      "outputs": [
        {
          "output_type": "execute_result",
          "data": {
            "text/plain": [
              "torch.Size([1, 3, 3])"
            ]
          },
          "metadata": {},
          "execution_count": 16
        }
      ]
    },
    {
      "cell_type": "code",
      "source": [
        "TENSOR[0]"
      ],
      "metadata": {
        "colab": {
          "base_uri": "https://localhost:8080/"
        },
        "id": "KB5LjzZ6t5JH",
        "outputId": "e7a2b095-4de4-467f-9ea2-b14e29cb3b16"
      },
      "execution_count": null,
      "outputs": [
        {
          "output_type": "execute_result",
          "data": {
            "text/plain": [
              "tensor([[1, 2, 3],\n",
              "        [3, 4, 5],\n",
              "        [6, 7, 8]])"
            ]
          },
          "metadata": {},
          "execution_count": 18
        }
      ]
    },
    {
      "cell_type": "markdown",
      "source": [
        "RANDOM TENSORS\n"
      ],
      "metadata": {
        "id": "TXwfyYXzuZhp"
      }
    },
    {
      "cell_type": "code",
      "source": [
        "# create random tensor\n",
        "\n",
        "random_tensor = torch.rand(2,3,4)\n",
        "\n",
        "random_tensor"
      ],
      "metadata": {
        "colab": {
          "base_uri": "https://localhost:8080/"
        },
        "id": "vZVWu8Ptudgy",
        "outputId": "30da8719-8145-450a-b34d-13fb916d7769"
      },
      "execution_count": null,
      "outputs": [
        {
          "output_type": "execute_result",
          "data": {
            "text/plain": [
              "tensor([[[0.9379, 0.0527, 0.5479, 0.7854],\n",
              "         [0.6435, 0.0155, 0.3826, 0.1218],\n",
              "         [0.1661, 0.9802, 0.8779, 0.7463]],\n",
              "\n",
              "        [[0.0470, 0.5662, 0.9673, 0.9004],\n",
              "         [0.0558, 0.1603, 0.8093, 0.1262],\n",
              "         [0.2699, 0.5703, 0.4290, 0.9077]]])"
            ]
          },
          "metadata": {},
          "execution_count": 20
        }
      ]
    },
    {
      "cell_type": "code",
      "source": [
        "random_image_size_tensor = torch.rand(size=(3,224,224))\n",
        "\n",
        "random_image_size_tensor.shape,random_image_size_tensor.ndim"
      ],
      "metadata": {
        "colab": {
          "base_uri": "https://localhost:8080/"
        },
        "id": "9P1by5tDu500",
        "outputId": "cb531bb0-56c1-497e-bf07-f1573c2d8398"
      },
      "execution_count": null,
      "outputs": [
        {
          "output_type": "execute_result",
          "data": {
            "text/plain": [
              "(torch.Size([3, 224, 224]), 3)"
            ]
          },
          "metadata": {},
          "execution_count": 22
        }
      ]
    },
    {
      "cell_type": "code",
      "source": [],
      "metadata": {
        "id": "1CgvFLwyvrwt"
      },
      "execution_count": null,
      "outputs": []
    },
    {
      "cell_type": "markdown",
      "source": [
        "Zeros and ones"
      ],
      "metadata": {
        "id": "vcH-qr-kwCIC"
      }
    },
    {
      "cell_type": "code",
      "source": [
        "zeroes = torch.zeros(size=(3,4))\n",
        "zeroes"
      ],
      "metadata": {
        "colab": {
          "base_uri": "https://localhost:8080/"
        },
        "id": "CekZUS04wFjT",
        "outputId": "a950c81f-337c-4c64-e31b-d5cab3a6a491"
      },
      "execution_count": null,
      "outputs": [
        {
          "output_type": "execute_result",
          "data": {
            "text/plain": [
              "tensor([[0., 0., 0., 0.],\n",
              "        [0., 0., 0., 0.],\n",
              "        [0., 0., 0., 0.]])"
            ]
          },
          "metadata": {},
          "execution_count": 24
        }
      ]
    },
    {
      "cell_type": "code",
      "source": [
        "ones = torch.ones(size=(10,10))\n",
        "ones"
      ],
      "metadata": {
        "colab": {
          "base_uri": "https://localhost:8080/"
        },
        "id": "uJ9UX5gewS-J",
        "outputId": "848f08cc-91df-48ca-eff1-e59284a6bab6"
      },
      "execution_count": null,
      "outputs": [
        {
          "output_type": "execute_result",
          "data": {
            "text/plain": [
              "tensor([[1., 1., 1., 1., 1., 1., 1., 1., 1., 1.],\n",
              "        [1., 1., 1., 1., 1., 1., 1., 1., 1., 1.],\n",
              "        [1., 1., 1., 1., 1., 1., 1., 1., 1., 1.],\n",
              "        [1., 1., 1., 1., 1., 1., 1., 1., 1., 1.],\n",
              "        [1., 1., 1., 1., 1., 1., 1., 1., 1., 1.],\n",
              "        [1., 1., 1., 1., 1., 1., 1., 1., 1., 1.],\n",
              "        [1., 1., 1., 1., 1., 1., 1., 1., 1., 1.],\n",
              "        [1., 1., 1., 1., 1., 1., 1., 1., 1., 1.],\n",
              "        [1., 1., 1., 1., 1., 1., 1., 1., 1., 1.],\n",
              "        [1., 1., 1., 1., 1., 1., 1., 1., 1., 1.]])"
            ]
          },
          "metadata": {},
          "execution_count": 25
        }
      ]
    },
    {
      "cell_type": "code",
      "source": [
        "ones.dtype\n"
      ],
      "metadata": {
        "colab": {
          "base_uri": "https://localhost:8080/"
        },
        "id": "2pfI_d_Owe05",
        "outputId": "d5d47900-7cb5-474d-c0ef-cb4cabecb4a4"
      },
      "execution_count": null,
      "outputs": [
        {
          "output_type": "execute_result",
          "data": {
            "text/plain": [
              "torch.float32"
            ]
          },
          "metadata": {},
          "execution_count": 26
        }
      ]
    },
    {
      "cell_type": "code",
      "source": [],
      "metadata": {
        "id": "v4jqRj08wjbh"
      },
      "execution_count": null,
      "outputs": []
    },
    {
      "cell_type": "markdown",
      "source": [
        "creating a range of tensors"
      ],
      "metadata": {
        "id": "xv9RGPybwnDK"
      }
    },
    {
      "cell_type": "code",
      "source": [
        "one_to_ten = torch.arange(1,11)\n",
        "one_to_ten"
      ],
      "metadata": {
        "colab": {
          "base_uri": "https://localhost:8080/"
        },
        "id": "-snx4RHPwqYV",
        "outputId": "7b7b1e23-5510-4c37-881f-8b2af6975c82"
      },
      "execution_count": null,
      "outputs": [
        {
          "output_type": "execute_result",
          "data": {
            "text/plain": [
              "tensor([ 1,  2,  3,  4,  5,  6,  7,  8,  9, 10])"
            ]
          },
          "metadata": {},
          "execution_count": 27
        }
      ]
    },
    {
      "cell_type": "code",
      "source": [
        "one_to_ten1 = torch.arange(start=1,end=100,step=5)\n",
        "one_to_ten1"
      ],
      "metadata": {
        "colab": {
          "base_uri": "https://localhost:8080/"
        },
        "id": "1lH8xXwww4fL",
        "outputId": "ba283263-503c-4b67-c184-007765cce7af"
      },
      "execution_count": null,
      "outputs": [
        {
          "output_type": "execute_result",
          "data": {
            "text/plain": [
              "tensor([ 1,  6, 11, 16, 21, 26, 31, 36, 41, 46, 51, 56, 61, 66, 71, 76, 81, 86,\n",
              "        91, 96])"
            ]
          },
          "metadata": {},
          "execution_count": 28
        }
      ]
    },
    {
      "cell_type": "code",
      "source": [
        "ten_zeroes = torch.zeros_like(input = one_to_ten)\n",
        "ten_zeroes"
      ],
      "metadata": {
        "colab": {
          "base_uri": "https://localhost:8080/"
        },
        "id": "33QePiepxGhL",
        "outputId": "67157d2d-0976-4278-9839-6d516ace124d"
      },
      "execution_count": null,
      "outputs": [
        {
          "output_type": "execute_result",
          "data": {
            "text/plain": [
              "tensor([0, 0, 0, 0, 0, 0, 0, 0, 0, 0])"
            ]
          },
          "metadata": {},
          "execution_count": 31
        }
      ]
    },
    {
      "cell_type": "code",
      "source": [],
      "metadata": {
        "id": "PAZwBZ9Vxm_U"
      },
      "execution_count": null,
      "outputs": []
    },
    {
      "cell_type": "markdown",
      "source": [
        "Tensor DataTypes"
      ],
      "metadata": {
        "id": "ba3nYOjPyrSa"
      }
    },
    {
      "cell_type": "code",
      "source": [
        "float_32_tensor = torch.tensor([3.6,6.0,9.0],\n",
        "                               dtype=None,\n",
        "                               device=None,\n",
        "                               requires_grad=False\n",
        "                               )\n",
        "float_32_tensor"
      ],
      "metadata": {
        "colab": {
          "base_uri": "https://localhost:8080/"
        },
        "id": "bX2TFODeywvY",
        "outputId": "37283c5b-d86d-45d4-dada-4d6dd1e76809"
      },
      "execution_count": null,
      "outputs": [
        {
          "output_type": "execute_result",
          "data": {
            "text/plain": [
              "tensor([3.6000, 6.0000, 9.0000])"
            ]
          },
          "metadata": {},
          "execution_count": 3
        }
      ]
    },
    {
      "cell_type": "code",
      "source": [
        "float_32_tensor.dtype"
      ],
      "metadata": {
        "colab": {
          "base_uri": "https://localhost:8080/"
        },
        "id": "E-pPgbFR0DiK",
        "outputId": "9f112c20-5e5e-4c69-b8c2-6fa79aa042c4"
      },
      "execution_count": null,
      "outputs": [
        {
          "output_type": "execute_result",
          "data": {
            "text/plain": [
              "torch.float32"
            ]
          },
          "metadata": {},
          "execution_count": 4
        }
      ]
    },
    {
      "cell_type": "code",
      "source": [
        "float_16_tensor = float_32_tensor.type(torch.float16)\n",
        "float_16_tensor"
      ],
      "metadata": {
        "colab": {
          "base_uri": "https://localhost:8080/"
        },
        "id": "YjnWZpdR1xfa",
        "outputId": "d1b018ac-7a85-4ad7-c24f-e48b57ac0511"
      },
      "execution_count": null,
      "outputs": [
        {
          "output_type": "execute_result",
          "data": {
            "text/plain": [
              "tensor([3.5996, 6.0000, 9.0000], dtype=torch.float16)"
            ]
          },
          "metadata": {},
          "execution_count": 5
        }
      ]
    },
    {
      "cell_type": "code",
      "source": [],
      "metadata": {
        "id": "OiEQ_dIL2Y9u"
      },
      "execution_count": null,
      "outputs": []
    },
    {
      "cell_type": "markdown",
      "source": [
        "###Printing all details"
      ],
      "metadata": {
        "id": "SxSB1IGanAfq"
      }
    },
    {
      "cell_type": "code",
      "source": [
        "some_tensor = torch.rand(5,6)\n",
        "some_tensor"
      ],
      "metadata": {
        "colab": {
          "base_uri": "https://localhost:8080/"
        },
        "id": "zvA21FYknGpl",
        "outputId": "37b0dce8-adea-4a3c-8702-f27d00a9d9e3"
      },
      "execution_count": 3,
      "outputs": [
        {
          "output_type": "execute_result",
          "data": {
            "text/plain": [
              "tensor([[0.9352, 0.5228, 0.7863, 0.8853, 0.3594, 0.6873],\n",
              "        [0.6359, 0.2421, 0.3116, 0.0931, 0.8924, 0.2617],\n",
              "        [0.3081, 0.2874, 0.8567, 0.9752, 0.8279, 0.9751],\n",
              "        [0.9742, 0.3102, 0.1435, 0.2832, 0.4818, 0.0455],\n",
              "        [0.5112, 0.8148, 0.3766, 0.2680, 0.0588, 0.8469]])"
            ]
          },
          "metadata": {},
          "execution_count": 3
        }
      ]
    },
    {
      "cell_type": "code",
      "source": [
        "print(some_tensor)\n",
        "print(f\"DataType of the tensor is :{some_tensor.dtype}\" )\n",
        "print(f\"Shape of tensor is :{some_tensor.shape}\" )\n",
        "print(f\"Device tensor is on :{some_tensor.device}\" )"
      ],
      "metadata": {
        "colab": {
          "base_uri": "https://localhost:8080/"
        },
        "id": "3pN5WzRjnRp7",
        "outputId": "1e78e08f-a98e-47a2-8431-0d3c0920d481"
      },
      "execution_count": null,
      "outputs": [
        {
          "output_type": "stream",
          "name": "stdout",
          "text": [
            "tensor([[0.5733, 0.2136, 0.9846, 0.3096, 0.9905, 0.8364],\n",
            "        [0.8971, 0.7708, 0.6833, 0.1224, 0.1882, 0.1389],\n",
            "        [0.5395, 0.6586, 0.3224, 0.9650, 0.3585, 0.5979],\n",
            "        [0.1961, 0.7624, 0.4503, 0.4077, 0.8565, 0.7245],\n",
            "        [0.5619, 0.0928, 0.8293, 0.4556, 0.3127, 0.6991]])\n",
            "DataType of the tensor is :torch.float32\n",
            "Shape of tensor is :torch.Size([5, 6])\n",
            "Device tensor is on :cpu\n"
          ]
        }
      ]
    },
    {
      "cell_type": "code",
      "source": [],
      "metadata": {
        "id": "8HM0uy-Yn9DE"
      },
      "execution_count": null,
      "outputs": []
    },
    {
      "cell_type": "markdown",
      "source": [
        "###Operations"
      ],
      "metadata": {
        "id": "IR_84uuhogmi"
      }
    },
    {
      "cell_type": "code",
      "source": [
        "some_tensor +10"
      ],
      "metadata": {
        "colab": {
          "base_uri": "https://localhost:8080/"
        },
        "id": "_SZRn8zeojT1",
        "outputId": "7ab1b07e-91cf-4754-92b4-f921815c8d31"
      },
      "execution_count": 4,
      "outputs": [
        {
          "output_type": "execute_result",
          "data": {
            "text/plain": [
              "tensor([[10.9352, 10.5228, 10.7863, 10.8853, 10.3594, 10.6873],\n",
              "        [10.6359, 10.2421, 10.3116, 10.0931, 10.8924, 10.2617],\n",
              "        [10.3081, 10.2874, 10.8567, 10.9752, 10.8279, 10.9751],\n",
              "        [10.9742, 10.3102, 10.1435, 10.2832, 10.4818, 10.0455],\n",
              "        [10.5112, 10.8148, 10.3766, 10.2680, 10.0588, 10.8469]])"
            ]
          },
          "metadata": {},
          "execution_count": 4
        }
      ]
    },
    {
      "cell_type": "code",
      "source": [
        "some_tensor*10"
      ],
      "metadata": {
        "colab": {
          "base_uri": "https://localhost:8080/"
        },
        "id": "IQN3pyo1opVV",
        "outputId": "4a00da5f-129a-4870-9234-e1a227d0f4b2"
      },
      "execution_count": null,
      "outputs": [
        {
          "output_type": "execute_result",
          "data": {
            "text/plain": [
              "tensor([[5.7328, 2.1361, 9.8465, 3.0960, 9.9054, 8.3638],\n",
              "        [8.9707, 7.7080, 6.8325, 1.2240, 1.8820, 1.3886],\n",
              "        [5.3946, 6.5859, 3.2245, 9.6504, 3.5850, 5.9790],\n",
              "        [1.9606, 7.6236, 4.5030, 4.0774, 8.5655, 7.2454],\n",
              "        [5.6191, 0.9275, 8.2930, 4.5563, 3.1269, 6.9907]])"
            ]
          },
          "metadata": {},
          "execution_count": 6
        }
      ]
    },
    {
      "cell_type": "code",
      "source": [
        "torch.mul(some_tensor,5)"
      ],
      "metadata": {
        "colab": {
          "base_uri": "https://localhost:8080/"
        },
        "id": "HoJ4BZxKos7O",
        "outputId": "17fd95bc-3199-4c2f-cbcb-cf08ab64e1a3"
      },
      "execution_count": null,
      "outputs": [
        {
          "output_type": "execute_result",
          "data": {
            "text/plain": [
              "tensor([[2.8664, 1.0681, 4.9232, 1.5480, 4.9527, 4.1819],\n",
              "        [4.4853, 3.8540, 3.4163, 0.6120, 0.9410, 0.6943],\n",
              "        [2.6973, 3.2930, 1.6122, 4.8252, 1.7925, 2.9895],\n",
              "        [0.9803, 3.8118, 2.2515, 2.0387, 4.2827, 3.6227],\n",
              "        [2.8095, 0.4638, 4.1465, 2.2782, 1.5635, 3.4954]])"
            ]
          },
          "metadata": {},
          "execution_count": 7
        }
      ]
    },
    {
      "cell_type": "code",
      "source": [],
      "metadata": {
        "id": "sanYQMDVpH6A"
      },
      "execution_count": null,
      "outputs": []
    },
    {
      "cell_type": "markdown",
      "source": [
        "###Tensor Mul\n"
      ],
      "metadata": {
        "id": "BOmld5aCvmhL"
      }
    },
    {
      "cell_type": "code",
      "source": [
        "some_tensor*some_tensor"
      ],
      "metadata": {
        "colab": {
          "base_uri": "https://localhost:8080/"
        },
        "id": "avBlJFPevpAq",
        "outputId": "bdde6f29-c9e2-462b-a0e9-b006d27dfa8f"
      },
      "execution_count": 5,
      "outputs": [
        {
          "output_type": "execute_result",
          "data": {
            "text/plain": [
              "tensor([[0.8746, 0.2733, 0.6183, 0.7838, 0.1292, 0.4723],\n",
              "        [0.4044, 0.0586, 0.0971, 0.0087, 0.7963, 0.0685],\n",
              "        [0.0949, 0.0826, 0.7340, 0.9511, 0.6854, 0.9508],\n",
              "        [0.9491, 0.0962, 0.0206, 0.0802, 0.2321, 0.0021],\n",
              "        [0.2614, 0.6639, 0.1418, 0.0718, 0.0035, 0.7173]])"
            ]
          },
          "metadata": {},
          "execution_count": 5
        }
      ]
    },
    {
      "cell_type": "code",
      "source": [
        "mul_tensor = torch.rand(3,3)"
      ],
      "metadata": {
        "id": "hzRtLD-GZG2Q"
      },
      "execution_count": 7,
      "outputs": []
    },
    {
      "cell_type": "code",
      "source": [
        "%%time\n",
        "torch.matmul(mul_tensor,mul_tensor)"
      ],
      "metadata": {
        "id": "ioPX1CBlvt7X",
        "colab": {
          "base_uri": "https://localhost:8080/"
        },
        "outputId": "f0772705-7127-4552-c86b-c846641d1c4e"
      },
      "execution_count": 8,
      "outputs": [
        {
          "output_type": "stream",
          "name": "stdout",
          "text": [
            "CPU times: user 849 µs, sys: 996 µs, total: 1.84 ms\n",
            "Wall time: 15.2 ms\n"
          ]
        },
        {
          "output_type": "execute_result",
          "data": {
            "text/plain": [
              "tensor([[0.6162, 0.9911, 0.5360],\n",
              "        [0.1980, 0.3708, 0.2981],\n",
              "        [0.2292, 0.3969, 0.2897]])"
            ]
          },
          "metadata": {},
          "execution_count": 8
        }
      ]
    },
    {
      "cell_type": "markdown",
      "source": [
        "### Common mul ERRORS"
      ],
      "metadata": {
        "id": "L-8GgfsYbEie"
      }
    },
    {
      "cell_type": "code",
      "source": [
        "tensor_a = torch.tensor([[1,2],[3,4],[5,6]])\n",
        "\n",
        "tensor_b = torch.tensor([[7,10],[8,11],[5,8]])\n",
        "\n",
        "torch.mm(tensor_a, tensor_b.T)"
      ],
      "metadata": {
        "colab": {
          "base_uri": "https://localhost:8080/"
        },
        "id": "NCdt-maWZBUc",
        "outputId": "2809af3e-75e3-4d0a-e915-7a846d3ba906"
      },
      "execution_count": 11,
      "outputs": [
        {
          "output_type": "execute_result",
          "data": {
            "text/plain": [
              "tensor([[ 27,  30,  21],\n",
              "        [ 61,  68,  47],\n",
              "        [ 95, 106,  73]])"
            ]
          },
          "metadata": {},
          "execution_count": 11
        }
      ]
    },
    {
      "cell_type": "code",
      "source": [
        "tensor_b.T"
      ],
      "metadata": {
        "colab": {
          "base_uri": "https://localhost:8080/"
        },
        "id": "pEYV7zGOb2UR",
        "outputId": "7f94f7a0-989a-4da0-f026-7d8a618a4656"
      },
      "execution_count": 10,
      "outputs": [
        {
          "output_type": "execute_result",
          "data": {
            "text/plain": [
              "tensor([[ 7,  8,  5],\n",
              "        [10, 11,  8]])"
            ]
          },
          "metadata": {},
          "execution_count": 10
        }
      ]
    },
    {
      "cell_type": "code",
      "source": [],
      "metadata": {
        "id": "hC8oRgQCcFCg"
      },
      "execution_count": null,
      "outputs": []
    },
    {
      "cell_type": "markdown",
      "source": [
        "### MIN MAX MEAN SUM ETC"
      ],
      "metadata": {
        "id": "xXUnlrpWg2q7"
      }
    },
    {
      "cell_type": "code",
      "source": [
        "x= torch.arange(0,100,10)\n",
        "x"
      ],
      "metadata": {
        "colab": {
          "base_uri": "https://localhost:8080/"
        },
        "id": "gfx9I2U5g8Zf",
        "outputId": "263e73f8-e5d4-4c1f-b3c8-745cc22e46db"
      },
      "execution_count": 12,
      "outputs": [
        {
          "output_type": "execute_result",
          "data": {
            "text/plain": [
              "tensor([ 0, 10, 20, 30, 40, 50, 60, 70, 80, 90])"
            ]
          },
          "metadata": {},
          "execution_count": 12
        }
      ]
    },
    {
      "cell_type": "code",
      "source": [
        "torch.min(x), x.min()"
      ],
      "metadata": {
        "colab": {
          "base_uri": "https://localhost:8080/"
        },
        "id": "dBGdSaVqhYKa",
        "outputId": "df19f446-9522-4c7f-fe7d-4edc9a15ae8d"
      },
      "execution_count": 13,
      "outputs": [
        {
          "output_type": "execute_result",
          "data": {
            "text/plain": [
              "(tensor(0), tensor(0))"
            ]
          },
          "metadata": {},
          "execution_count": 13
        }
      ]
    },
    {
      "cell_type": "code",
      "source": [
        "torch.max(x) , x.max()"
      ],
      "metadata": {
        "colab": {
          "base_uri": "https://localhost:8080/"
        },
        "id": "2YLmJn2Whfo0",
        "outputId": "67b0d771-9cbc-48fb-f063-b1eb1f734f96"
      },
      "execution_count": 14,
      "outputs": [
        {
          "output_type": "execute_result",
          "data": {
            "text/plain": [
              "(tensor(90), tensor(90))"
            ]
          },
          "metadata": {},
          "execution_count": 14
        }
      ]
    },
    {
      "cell_type": "code",
      "source": [
        "torch.mean(x.type(torch.float32)) , x.type(torch.float32).mean()"
      ],
      "metadata": {
        "colab": {
          "base_uri": "https://localhost:8080/"
        },
        "id": "llCRfgnRhmYK",
        "outputId": "1c2677b1-9ca8-452b-ec03-5416f1df9494"
      },
      "execution_count": 17,
      "outputs": [
        {
          "output_type": "execute_result",
          "data": {
            "text/plain": [
              "(tensor(45.), tensor(45.))"
            ]
          },
          "metadata": {},
          "execution_count": 17
        }
      ]
    },
    {
      "cell_type": "code",
      "source": [
        "torch.sum(x) , x.sum()"
      ],
      "metadata": {
        "colab": {
          "base_uri": "https://localhost:8080/"
        },
        "id": "kXrU4lO-hvZN",
        "outputId": "49252343-5353-4683-fbb4-a8d297c5cf83"
      },
      "execution_count": 19,
      "outputs": [
        {
          "output_type": "execute_result",
          "data": {
            "text/plain": [
              "(tensor(450), tensor(450))"
            ]
          },
          "metadata": {},
          "execution_count": 19
        }
      ]
    },
    {
      "cell_type": "code",
      "source": [],
      "metadata": {
        "id": "SPJXCgPzi-AB"
      },
      "execution_count": null,
      "outputs": []
    }
  ]
}